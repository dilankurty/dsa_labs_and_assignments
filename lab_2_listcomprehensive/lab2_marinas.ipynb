{
 "cells": [
  {
   "cell_type": "markdown",
   "id": "ea92a243",
   "metadata": {},
   "source": [
    "1. Convert Celsius temperatures to Fahrenheit, only for temps above 0°C\n",
    "\n",
    "    Celsius: [-5, 0, 10, 25, 30, -2, 15, 35]\n",
    "\n",
    "    Fahrenheit (>0°C only): [50.0, 77.0, 86.0, 59.0, 95.0]"
   ]
  },
  {
   "cell_type": "code",
   "execution_count": null,
   "id": "b2b0e77a",
   "metadata": {},
   "outputs": [
    {
     "data": {
      "text/plain": [
       "[50.0, 77.0, 86.0, 59.0, 95.0]"
      ]
     },
     "execution_count": 2,
     "metadata": {},
     "output_type": "execute_result"
    }
   ],
   "source": [
    "celsius = [-5, 0, 10, 25, 30, -2, 15, 35]\n",
    "farenheit = [c*1.8+32 for c in celsius if c > 0]\n",
    "farenheit"
   ]
  },
  {
   "cell_type": "markdown",
   "id": "cb37da88",
   "metadata": {},
   "source": [
    "2. Extract valid numeric grades and categorize them (passing graade is >=80)\n",
    "\n",
    "    Raw grades: ['85', 'invalid', '92', '78', '', '95', 'not_a_grade', '88']\n",
    "\n",
    "    Grade results: ['Pass', 'Pass', 'Fail', 'Pass',  'Pass']"
   ]
  },
  {
   "cell_type": "code",
   "execution_count": 5,
   "id": "b43d3eb7",
   "metadata": {},
   "outputs": [
    {
     "data": {
      "text/plain": [
       "['Pass', 'Pass', 'Fail', 'Pass', 'Pass']"
      ]
     },
     "execution_count": 5,
     "metadata": {},
     "output_type": "execute_result"
    }
   ],
   "source": [
    "raw = ['85', 'invalid', '92', '78', '', '95', 'not_a_grade', '88']\n",
    "grades = [int(s) for s in raw if s.isdigit()]\n",
    "results = ['Pass' if g >= 80 else 'Fail' for g in grades]\n",
    "results"
   ]
  },
  {
   "cell_type": "markdown",
   "id": "7bd84336",
   "metadata": {},
   "source": [
    "3. Extract words longer than 4 characters and reverse them\n",
    "\n",
    "    Original: The quick brown fox jumps over the lazy dog\n",
    "\n",
    "    Reversed long words: ['kciuq', 'nworb', 'spmuj']"
   ]
  },
  {
   "cell_type": "code",
   "execution_count": 1,
   "id": "5fb127bd",
   "metadata": {},
   "outputs": [
    {
     "data": {
      "text/plain": [
       "['kciuq', 'nworb', 'spmuj', 'revo', 'yzal']"
      ]
     },
     "execution_count": 1,
     "metadata": {},
     "output_type": "execute_result"
    }
   ],
   "source": [
    "text = \"The quick brown fox jumps over the lazy dog\"\n",
    "split = [word[::-1] for word in text.split() if len(word) > 3]\n",
    "split"
   ]
  },
  {
   "cell_type": "markdown",
   "id": "75167642",
   "metadata": {},
   "source": [
    "4.  Extract valid email addresses and get their domains\n",
    "\n",
    "    Emails: ['user@gmail.com', 'invalid-email', 'test@yahoo.com', 'bad@', 'admin@company.org', 'no-at-sign.com']\n",
    "\n",
    "    Valid domains: ['gmail.com', 'yahoo.com', 'company.org']"
   ]
  },
  {
   "cell_type": "code",
   "execution_count": 4,
   "id": "e5abb50e",
   "metadata": {},
   "outputs": [
    {
     "data": {
      "text/plain": [
       "['gmail.com', 'yahoo.com', 'company.org']"
      ]
     },
     "execution_count": 4,
     "metadata": {},
     "output_type": "execute_result"
    }
   ],
   "source": [
    "emails = ['user@gmail.com', 'invalid-email', 'test@yahoo.com', 'bad@', 'admin@company.org', 'no-at-sign.com']\n",
    "domains = [email.split('@')[1] for email in emails if '@' in email and '.' in email.split('@')[1]] #and email.split('@')[1].index('.') > 0]\n",
    "domains"
   ]
  },
  {
   "cell_type": "markdown",
   "id": "88e31fc6",
   "metadata": {},
   "source": [
    "5. Find perfect squares that are also even, within range 1-100\n",
    "\n",
    "    Even perfect squares (1-100): [4, 16, 36, 64, 100]"
   ]
  },
  {
   "cell_type": "code",
   "execution_count": 13,
   "id": "3b6a041e",
   "metadata": {},
   "outputs": [
    {
     "data": {
      "text/plain": [
       "[4, 16, 36, 64, 100]"
      ]
     },
     "execution_count": 13,
     "metadata": {},
     "output_type": "execute_result"
    }
   ],
   "source": [
    "even_squares = [x for x in range(1, 101) if x % 2 == 0 and (x**0.5) % 2 == 0]\n",
    "even_squares"
   ]
  }
 ],
 "metadata": {
  "kernelspec": {
   "display_name": "Python 3",
   "language": "python",
   "name": "python3"
  },
  "language_info": {
   "codemirror_mode": {
    "name": "ipython",
    "version": 3
   },
   "file_extension": ".py",
   "mimetype": "text/x-python",
   "name": "python",
   "nbconvert_exporter": "python",
   "pygments_lexer": "ipython3",
   "version": "3.10.0"
  }
 },
 "nbformat": 4,
 "nbformat_minor": 5
}
